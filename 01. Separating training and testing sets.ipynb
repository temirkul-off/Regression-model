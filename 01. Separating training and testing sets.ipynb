{
 "cells": [
  {
   "cell_type": "code",
   "execution_count": 1,
   "id": "2f8e86c0-b73e-409c-b943-8f8457e8583d",
   "metadata": {},
   "outputs": [],
   "source": [
    "import pandas as pd\n",
    "import numpy as np"
   ]
  },
  {
   "cell_type": "code",
   "execution_count": 2,
   "id": "1c323c43-2864-418e-ac9f-b8fde983829c",
   "metadata": {},
   "outputs": [],
   "source": [
    "train_main_df = pd.read_csv(r'data\\train_main_data.csv')\n",
    "train_additional_df = pd.read_csv(r'data\\train_additional_data.csv')"
   ]
  },
  {
   "cell_type": "code",
   "execution_count": 3,
   "id": "42fdb3ff-51fa-41aa-a8b8-ad92fb07909c",
   "metadata": {},
   "outputs": [],
   "source": [
    "test_main_df = pd.read_csv(r'data\\test_main_data.csv')\n",
    "test_additional_df = pd.read_csv(r'data\\test_additional_data.csv')"
   ]
  },
  {
   "cell_type": "code",
   "execution_count": 4,
   "id": "69bc2bd4-c19f-4858-99ee-35dd279924de",
   "metadata": {},
   "outputs": [
    {
     "data": {
      "text/html": [
       "<div>\n",
       "<style scoped>\n",
       "    .dataframe tbody tr th:only-of-type {\n",
       "        vertical-align: middle;\n",
       "    }\n",
       "\n",
       "    .dataframe tbody tr th {\n",
       "        vertical-align: top;\n",
       "    }\n",
       "\n",
       "    .dataframe thead th {\n",
       "        text-align: right;\n",
       "    }\n",
       "</style>\n",
       "<table border=\"1\" class=\"dataframe\">\n",
       "  <thead>\n",
       "    <tr style=\"text-align: right;\">\n",
       "      <th></th>\n",
       "      <th>id</th>\n",
       "      <th>timestamp</th>\n",
       "      <th>full_sq</th>\n",
       "      <th>life_sq</th>\n",
       "      <th>floor</th>\n",
       "      <th>max_floor</th>\n",
       "      <th>material</th>\n",
       "      <th>build_year</th>\n",
       "      <th>num_room</th>\n",
       "      <th>kitch_sq</th>\n",
       "      <th>apartment condition</th>\n",
       "      <th>sub_area</th>\n",
       "    </tr>\n",
       "  </thead>\n",
       "  <tbody>\n",
       "    <tr>\n",
       "      <th>0</th>\n",
       "      <td>74544</td>\n",
       "      <td>2014-03-11</td>\n",
       "      <td>39</td>\n",
       "      <td>NaN</td>\n",
       "      <td>6.0</td>\n",
       "      <td>1.0</td>\n",
       "      <td>1.0</td>\n",
       "      <td>NaN</td>\n",
       "      <td>1.0</td>\n",
       "      <td>1.0</td>\n",
       "      <td>1.0</td>\n",
       "      <td>72</td>\n",
       "    </tr>\n",
       "    <tr>\n",
       "      <th>1</th>\n",
       "      <td>78384</td>\n",
       "      <td>2014-12-31</td>\n",
       "      <td>34</td>\n",
       "      <td>NaN</td>\n",
       "      <td>2.0</td>\n",
       "      <td>17.0</td>\n",
       "      <td>1.0</td>\n",
       "      <td>NaN</td>\n",
       "      <td>1.0</td>\n",
       "      <td>0.0</td>\n",
       "      <td>NaN</td>\n",
       "      <td>86</td>\n",
       "    </tr>\n",
       "    <tr>\n",
       "      <th>2</th>\n",
       "      <td>30355</td>\n",
       "      <td>2012-08-16</td>\n",
       "      <td>29</td>\n",
       "      <td>18.0</td>\n",
       "      <td>2.0</td>\n",
       "      <td>NaN</td>\n",
       "      <td>NaN</td>\n",
       "      <td>NaN</td>\n",
       "      <td>NaN</td>\n",
       "      <td>NaN</td>\n",
       "      <td>NaN</td>\n",
       "      <td>12</td>\n",
       "    </tr>\n",
       "    <tr>\n",
       "      <th>3</th>\n",
       "      <td>16306</td>\n",
       "      <td>2013-05-02</td>\n",
       "      <td>55</td>\n",
       "      <td>37.0</td>\n",
       "      <td>3.0</td>\n",
       "      <td>NaN</td>\n",
       "      <td>NaN</td>\n",
       "      <td>NaN</td>\n",
       "      <td>NaN</td>\n",
       "      <td>NaN</td>\n",
       "      <td>NaN</td>\n",
       "      <td>118</td>\n",
       "    </tr>\n",
       "    <tr>\n",
       "      <th>4</th>\n",
       "      <td>48126</td>\n",
       "      <td>2013-03-07</td>\n",
       "      <td>32</td>\n",
       "      <td>16.0</td>\n",
       "      <td>9.0</td>\n",
       "      <td>NaN</td>\n",
       "      <td>NaN</td>\n",
       "      <td>NaN</td>\n",
       "      <td>NaN</td>\n",
       "      <td>NaN</td>\n",
       "      <td>NaN</td>\n",
       "      <td>28</td>\n",
       "    </tr>\n",
       "  </tbody>\n",
       "</table>\n",
       "</div>"
      ],
      "text/plain": [
       "      id   timestamp  full_sq  life_sq  floor  max_floor  material  \\\n",
       "0  74544  2014-03-11       39      NaN    6.0        1.0       1.0   \n",
       "1  78384  2014-12-31       34      NaN    2.0       17.0       1.0   \n",
       "2  30355  2012-08-16       29     18.0    2.0        NaN       NaN   \n",
       "3  16306  2013-05-02       55     37.0    3.0        NaN       NaN   \n",
       "4  48126  2013-03-07       32     16.0    9.0        NaN       NaN   \n",
       "\n",
       "   build_year  num_room  kitch_sq  apartment condition  sub_area  \n",
       "0         NaN       1.0       1.0                  1.0        72  \n",
       "1         NaN       1.0       0.0                  NaN        86  \n",
       "2         NaN       NaN       NaN                  NaN        12  \n",
       "3         NaN       NaN       NaN                  NaN       118  \n",
       "4         NaN       NaN       NaN                  NaN        28  "
      ]
     },
     "execution_count": 4,
     "metadata": {},
     "output_type": "execute_result"
    }
   ],
   "source": [
    "test_main_df.head()"
   ]
  },
  {
   "cell_type": "code",
   "execution_count": 5,
   "id": "dbafdc65-e5a6-4481-a9e4-68f2a539c558",
   "metadata": {},
   "outputs": [],
   "source": [
    "train_main_df = train_main_df.sort_values(by='timestamp')\n",
    "train_ids = train_main_df.id.drop_duplicates()\n",
    "train_df = train_main_df[:round(len(train_ids) * 0.7)]\n",
    "valid_df = train_main_df[round(len(train_ids) * 0.7):]"
   ]
  },
  {
   "cell_type": "code",
   "execution_count": 6,
   "id": "240b3bc3-cf86-408b-8632-98a3f1b3c0c1",
   "metadata": {},
   "outputs": [
    {
     "data": {
      "text/plain": [
       "(20300, 13)"
      ]
     },
     "execution_count": 6,
     "metadata": {},
     "output_type": "execute_result"
    }
   ],
   "source": [
    "train_df.shape"
   ]
  },
  {
   "cell_type": "code",
   "execution_count": 7,
   "id": "14ab3d23-3e8e-42cc-850d-7e10f1f478ad",
   "metadata": {},
   "outputs": [
    {
     "data": {
      "text/plain": [
       "(8700, 13)"
      ]
     },
     "execution_count": 7,
     "metadata": {},
     "output_type": "execute_result"
    }
   ],
   "source": [
    "valid_df.shape"
   ]
  },
  {
   "cell_type": "code",
   "execution_count": 8,
   "id": "d203f2b6-2b66-4b77-929f-35459307fea1",
   "metadata": {},
   "outputs": [],
   "source": [
    "train_df = train_df.rename(columns={'apartment condition': 'apartment_condition'})\n",
    "valid_df = valid_df.rename(columns={'apartment condition': 'apartment_condition'})\n",
    "test_main_df = test_main_df.rename(columns={'apartment condition': 'apartment_condition'})"
   ]
  },
  {
   "cell_type": "code",
   "execution_count": 9,
   "id": "c767b1b0-35e3-4713-813d-e723a7a8e4dc",
   "metadata": {},
   "outputs": [
    {
     "data": {
      "text/plain": [
       "Index(['id', 'timestamp', 'full_sq', 'life_sq', 'floor', 'max_floor',\n",
       "       'material', 'build_year', 'num_room', 'kitch_sq', 'apartment_condition',\n",
       "       'sub_area'],\n",
       "      dtype='object')"
      ]
     },
     "execution_count": 9,
     "metadata": {},
     "output_type": "execute_result"
    }
   ],
   "source": [
    "test_main_df.columns"
   ]
  },
  {
   "cell_type": "code",
   "execution_count": 16,
   "id": "4c9e097d-0c09-4dba-aead-ea5a8104955b",
   "metadata": {},
   "outputs": [
    {
     "data": {
      "text/plain": [
       "build_year\n",
       "2014.0    31\n",
       "2015.0    23\n",
       "1972.0    17\n",
       "0.0       17\n",
       "1970.0    15\n",
       "          ..\n",
       "1995.0     1\n",
       "1927.0     1\n",
       "4965.0     1\n",
       "1955.0     1\n",
       "1950.0     1\n",
       "Name: count, Length: 74, dtype: int64"
      ]
     },
     "execution_count": 16,
     "metadata": {},
     "output_type": "execute_result"
    }
   ],
   "source": [
    "test_main_df.build_year.value_counts()"
   ]
  },
  {
   "cell_type": "code",
   "execution_count": 12,
   "id": "7692edc1-bc75-48ad-a5d6-5614c6aea692",
   "metadata": {},
   "outputs": [
    {
     "data": {
      "text/plain": [
       "id                       0\n",
       "timestamp                0\n",
       "full_sq                  0\n",
       "life_sq                214\n",
       "floor                    6\n",
       "max_floor              321\n",
       "material               321\n",
       "build_year             452\n",
       "num_room               321\n",
       "kitch_sq               321\n",
       "apartment_condition    453\n",
       "sub_area                 0\n",
       "dtype: int64"
      ]
     },
     "execution_count": 12,
     "metadata": {},
     "output_type": "execute_result"
    }
   ],
   "source": [
    "test_main_df.isna().sum()"
   ]
  }
 ],
 "metadata": {
  "kernelspec": {
   "display_name": "Python 3 (ipykernel)",
   "language": "python",
   "name": "python3"
  },
  "language_info": {
   "codemirror_mode": {
    "name": "ipython",
    "version": 3
   },
   "file_extension": ".py",
   "mimetype": "text/x-python",
   "name": "python",
   "nbconvert_exporter": "python",
   "pygments_lexer": "ipython3",
   "version": "3.11.4"
  }
 },
 "nbformat": 4,
 "nbformat_minor": 5
}
